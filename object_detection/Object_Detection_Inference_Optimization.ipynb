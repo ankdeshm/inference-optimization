{
  "metadata": {
    "kernelspec": {
      "language": "python",
      "display_name": "Python 3",
      "name": "python3"
    },
    "language_info": {
      "name": "python",
      "version": "3.7.12",
      "mimetype": "text/x-python",
      "codemirror_mode": {
        "name": "ipython",
        "version": 3
      },
      "pygments_lexer": "ipython3",
      "nbconvert_exporter": "python",
      "file_extension": ".py"
    },
    "colab": {
      "provenance": []
    }
  },
  "nbformat_minor": 0,
  "nbformat": 4,
  "cells": [
    {
      "cell_type": "code",
      "source": [
        "## Install ultralytics\n",
        "!pip install ultralytics"
      ],
      "metadata": {
        "_kg_hide-output": true,
        "execution": {
          "iopub.status.busy": "2023-10-04T21:33:08.109212Z",
          "iopub.execute_input": "2023-10-04T21:33:08.110023Z"
        },
        "trusted": true,
        "id": "07w79nGYrFr_"
      },
      "execution_count": null,
      "outputs": []
    },
    {
      "cell_type": "code",
      "source": [
        "import ultralytics\n",
        "ultralytics.checks()"
      ],
      "metadata": {
        "colab": {
          "base_uri": "https://localhost:8080/"
        },
        "id": "aTBZvw0ErHxo",
        "outputId": "e7860478-3372-4d8d-9bda-1a9cc5a43bd8"
      },
      "execution_count": 2,
      "outputs": [
        {
          "output_type": "stream",
          "name": "stderr",
          "text": [
            "Ultralytics YOLOv8.0.208 🚀 Python-3.10.12 torch-2.1.0+cu118 CPU (Intel Xeon 2.20GHz)\n",
            "Setup complete ✅ (2 CPUs, 12.7 GB RAM, 27.0/107.7 GB disk)\n"
          ]
        }
      ]
    },
    {
      "cell_type": "code",
      "source": [
        "%matplotlib inline\n",
        "\n",
        "import numpy as np\n",
        "import matplotlib.pyplot as plt\n",
        "import random\n",
        "import os\n",
        "import cv2\n",
        "import shutil\n",
        "import tqdm\n",
        "import glob\n",
        "import time"
      ],
      "metadata": {
        "execution": {
          "iopub.status.busy": "2023-10-02T07:32:39.964754Z",
          "iopub.execute_input": "2023-10-02T07:32:39.965573Z",
          "iopub.status.idle": "2023-10-02T07:32:40.134032Z",
          "shell.execute_reply.started": "2023-10-02T07:32:39.965523Z",
          "shell.execute_reply": "2023-10-02T07:32:40.133118Z"
        },
        "trusted": true,
        "id": "GZWRPzu4rFsA"
      },
      "execution_count": 3,
      "outputs": []
    },
    {
      "cell_type": "code",
      "source": [
        "# Check GPU is working or not\n",
        "import torch\n",
        "print(f\"Using torch {torch.__version__} ({torch.cuda.get_device_properties(0).name if torch.cuda.is_available() else 'CPU'})\")"
      ],
      "metadata": {
        "execution": {
          "iopub.status.busy": "2023-10-02T07:32:41.509607Z",
          "iopub.execute_input": "2023-10-02T07:32:41.510569Z",
          "iopub.status.idle": "2023-10-02T07:32:43.610399Z",
          "shell.execute_reply.started": "2023-10-02T07:32:41.510530Z",
          "shell.execute_reply": "2023-10-02T07:32:43.609198Z"
        },
        "trusted": true,
        "colab": {
          "base_uri": "https://localhost:8080/"
        },
        "id": "4CjXKYYFrFsB",
        "outputId": "a93f181d-8917-4ad3-eb72-294f61be8471"
      },
      "execution_count": 36,
      "outputs": [
        {
          "output_type": "stream",
          "name": "stdout",
          "text": [
            "Using torch 2.1.0+cu118 (CPU)\n"
          ]
        }
      ]
    },
    {
      "cell_type": "code",
      "source": [
        "from google.colab import drive\n",
        "drive.mount('/content/drive')"
      ],
      "metadata": {
        "colab": {
          "base_uri": "https://localhost:8080/"
        },
        "id": "Hgo-ceC_rx7P",
        "outputId": "84a5a1a8-84a4-4793-91ca-e66694dd81d0"
      },
      "execution_count": 5,
      "outputs": [
        {
          "output_type": "stream",
          "name": "stdout",
          "text": [
            "Mounted at /content/drive\n"
          ]
        }
      ]
    },
    {
      "cell_type": "code",
      "source": [
        "!unzip /content/drive/MyDrive/CMPE_258/258_HW/archive_fashion.zip"
      ],
      "metadata": {
        "id": "WBuIturisWsy"
      },
      "execution_count": null,
      "outputs": []
    },
    {
      "cell_type": "code",
      "source": [
        "images_path = '/content/colorful_fashion_dataset_for_object_detection/JPEGImages/'\n",
        "annotations_path  = '/content/colorful_fashion_dataset_for_object_detection/Annotations_txt/'\n",
        "path = '/content/colorful_fashion_dataset_for_object_detection/'"
      ],
      "metadata": {
        "execution": {
          "iopub.status.busy": "2023-10-02T07:32:45.935913Z",
          "iopub.execute_input": "2023-10-02T07:32:45.936561Z",
          "iopub.status.idle": "2023-10-02T07:32:45.941879Z",
          "shell.execute_reply.started": "2023-10-02T07:32:45.936522Z",
          "shell.execute_reply": "2023-10-02T07:32:45.941058Z"
        },
        "trusted": true,
        "id": "7zmMUORarFsB"
      },
      "execution_count": 12,
      "outputs": []
    },
    {
      "cell_type": "markdown",
      "source": [
        "# Pre-trained YOLOv8 for Object Detection"
      ],
      "metadata": {
        "id": "ghTJ_yj3rFsB"
      }
    },
    {
      "cell_type": "code",
      "source": [
        "from ultralytics import YOLO\n",
        "\n",
        "# load pre-trained model\n",
        "detection_model = YOLO(\"yolov8m.pt\")"
      ],
      "metadata": {
        "execution": {
          "iopub.status.busy": "2023-03-29T13:41:25.324378Z",
          "iopub.execute_input": "2023-03-29T13:41:25.325275Z",
          "iopub.status.idle": "2023-03-29T13:41:27.054981Z",
          "shell.execute_reply.started": "2023-03-29T13:41:25.325228Z",
          "shell.execute_reply": "2023-03-29T13:41:27.053905Z"
        },
        "trusted": true,
        "colab": {
          "base_uri": "https://localhost:8080/"
        },
        "id": "Mx-u5mhcrFsB",
        "outputId": "026535a4-9789-4a8d-cbc5-02492f8a0830"
      },
      "execution_count": 7,
      "outputs": [
        {
          "output_type": "stream",
          "name": "stderr",
          "text": [
            "Downloading https://github.com/ultralytics/assets/releases/download/v0.0.0/yolov8m.pt to 'yolov8m.pt'...\n",
            "100%|██████████| 49.7M/49.7M [00:00<00:00, 143MB/s]\n"
          ]
        }
      ]
    },
    {
      "cell_type": "markdown",
      "source": [
        "# Prepare Dataset\n",
        "### Dataset: colorful_fashion_dataset_for_object_detection\n",
        "#### Source Kaggle"
      ],
      "metadata": {
        "id": "DRmFonJ7rFsD"
      }
    },
    {
      "cell_type": "code",
      "source": [
        "train = []\n",
        "with open(path+'ImageSets/Main/trainval.txt', 'r') as f:\n",
        "    for line in f.readlines():\n",
        "        if line[-1]=='\\n':\n",
        "            line = line[:-1]\n",
        "        train.append(line)\n",
        "\n",
        "test = []\n",
        "with open(path+'ImageSets/Main/test.txt', 'r') as f:\n",
        "    for line in f.readlines():\n",
        "        if line[-1]=='\\n':\n",
        "            line = line[:-1]\n",
        "        test.append(line)"
      ],
      "metadata": {
        "execution": {
          "iopub.status.busy": "2023-03-29T13:44:24.092227Z",
          "iopub.execute_input": "2023-03-29T13:44:24.092922Z",
          "iopub.status.idle": "2023-03-29T13:44:24.105285Z",
          "shell.execute_reply.started": "2023-03-29T13:44:24.092884Z",
          "shell.execute_reply": "2023-03-29T13:44:24.104324Z"
        },
        "trusted": true,
        "id": "NrKswCKhrFsD"
      },
      "execution_count": 13,
      "outputs": []
    },
    {
      "cell_type": "code",
      "source": [
        "len(train), len(test)"
      ],
      "metadata": {
        "execution": {
          "iopub.status.busy": "2023-03-29T13:44:26.945108Z",
          "iopub.execute_input": "2023-03-29T13:44:26.945781Z",
          "iopub.status.idle": "2023-03-29T13:44:26.953714Z",
          "shell.execute_reply.started": "2023-03-29T13:44:26.945744Z",
          "shell.execute_reply": "2023-03-29T13:44:26.951704Z"
        },
        "trusted": true,
        "colab": {
          "base_uri": "https://localhost:8080/"
        },
        "id": "rnfvXYDerFsD",
        "outputId": "85f21f94-3c03-4175-96f8-f921809f046b"
      },
      "execution_count": 14,
      "outputs": [
        {
          "output_type": "execute_result",
          "data": {
            "text/plain": [
              "(2145, 537)"
            ]
          },
          "metadata": {},
          "execution_count": 14
        }
      ]
    },
    {
      "cell_type": "code",
      "source": [
        "os.mkdir('train')\n",
        "os.mkdir('train/images')\n",
        "os.mkdir('train/labels')\n",
        "\n",
        "os.mkdir('test')\n",
        "os.mkdir('test/images')\n",
        "os.mkdir('test/labels')"
      ],
      "metadata": {
        "execution": {
          "iopub.status.busy": "2023-03-29T13:44:30.192292Z",
          "iopub.execute_input": "2023-03-29T13:44:30.192649Z",
          "iopub.status.idle": "2023-03-29T13:44:30.198607Z",
          "shell.execute_reply.started": "2023-03-29T13:44:30.192617Z",
          "shell.execute_reply": "2023-03-29T13:44:30.197448Z"
        },
        "trusted": true,
        "id": "OfBe-tpPrFsD"
      },
      "execution_count": 15,
      "outputs": []
    },
    {
      "cell_type": "code",
      "source": [
        "train_path = '/content/train/'\n",
        "test_path = '/content/test/'\n",
        "\n",
        "print('Copying Train Data..!!')\n",
        "for i in tqdm.tqdm(train):\n",
        "    a = shutil.copyfile(images_path+i+'.jpg', train_path+'images/'+i+'.jpg')\n",
        "    a = shutil.copyfile(annotations_path+i+'.txt', train_path+'labels/'+i+'.txt')\n",
        "\n",
        "print('Copying Test Data..!!')\n",
        "for i in tqdm.tqdm(test):\n",
        "    a = shutil.copyfile(images_path+i+'.jpg', test_path+'images/'+i+'.jpg')\n",
        "    a = shutil.copyfile(annotations_path+i+'.txt', test_path+'labels/'+i+'.txt')"
      ],
      "metadata": {
        "execution": {
          "iopub.status.busy": "2023-03-29T13:44:33.555293Z",
          "iopub.execute_input": "2023-03-29T13:44:33.556444Z",
          "iopub.status.idle": "2023-03-29T13:45:07.668176Z",
          "shell.execute_reply.started": "2023-03-29T13:44:33.556397Z",
          "shell.execute_reply": "2023-03-29T13:45:07.667192Z"
        },
        "trusted": true,
        "colab": {
          "base_uri": "https://localhost:8080/"
        },
        "id": "FOVcL8carFsE",
        "outputId": "45c97d87-c27a-4394-c55c-ee2daecb7a1c"
      },
      "execution_count": 16,
      "outputs": [
        {
          "output_type": "stream",
          "name": "stdout",
          "text": [
            "Copying Train Data..!!\n"
          ]
        },
        {
          "output_type": "stream",
          "name": "stderr",
          "text": [
            "100%|██████████| 2145/2145 [00:00<00:00, 2862.24it/s]\n"
          ]
        },
        {
          "output_type": "stream",
          "name": "stdout",
          "text": [
            "Copying Test Data..!!\n"
          ]
        },
        {
          "output_type": "stream",
          "name": "stderr",
          "text": [
            "100%|██████████| 537/537 [00:00<00:00, 2800.95it/s]\n"
          ]
        }
      ]
    },
    {
      "cell_type": "markdown",
      "source": [
        "# Train Custom Model"
      ],
      "metadata": {
        "id": "HrjX12SFrFsE"
      }
    },
    {
      "cell_type": "code",
      "source": [
        "text = \"\"\"\n",
        "train: /content/train\n",
        "val: /content/test\n",
        "\n",
        "# number of classes\n",
        "nc: 10\n",
        "\n",
        "# class names\n",
        "names: ['sunglass','hat','jacket','shirt','pants','shorts','skirt','dress','bag','shoe']\n",
        "\"\"\"\n",
        "with open(\"data.yaml\", 'w') as file:\n",
        "    file.write(text)"
      ],
      "metadata": {
        "execution": {
          "iopub.status.busy": "2023-03-29T13:45:19.522953Z",
          "iopub.execute_input": "2023-03-29T13:45:19.52341Z",
          "iopub.status.idle": "2023-03-29T13:45:19.529406Z",
          "shell.execute_reply.started": "2023-03-29T13:45:19.523375Z",
          "shell.execute_reply": "2023-03-29T13:45:19.528275Z"
        },
        "trusted": true,
        "id": "9JU5ZTo1rFsE"
      },
      "execution_count": 17,
      "outputs": []
    },
    {
      "cell_type": "code",
      "source": [
        "# Load the file to inspect its contents\n",
        "checkpoint = torch.load('/content/yolov8m.pt')\n",
        "\n",
        "# Print out the keys and data types of the contents\n",
        "for key, value in checkpoint.items():\n",
        "    print(f\"Key: {key}, Type: {type(value)}\")"
      ],
      "metadata": {
        "colab": {
          "base_uri": "https://localhost:8080/"
        },
        "id": "xG_9347tSBkT",
        "outputId": "b83e58da-0083-4df1-ccdd-15a70cc4b275"
      },
      "execution_count": 18,
      "outputs": [
        {
          "output_type": "stream",
          "name": "stdout",
          "text": [
            "Key: epoch, Type: <class 'int'>\n",
            "Key: best_fitness, Type: <class 'NoneType'>\n",
            "Key: model, Type: <class 'ultralytics.nn.tasks.DetectionModel'>\n",
            "Key: ema, Type: <class 'NoneType'>\n",
            "Key: updates, Type: <class 'NoneType'>\n",
            "Key: optimizer, Type: <class 'NoneType'>\n",
            "Key: train_args, Type: <class 'dict'>\n",
            "Key: date, Type: <class 'str'>\n",
            "Key: version, Type: <class 'str'>\n"
          ]
        }
      ]
    },
    {
      "cell_type": "code",
      "source": [
        "file_size_bytes = os.path.getsize('/content/yolov8m.pt')\n",
        "file_size_mb = file_size_bytes / (2**20)\n",
        "\n",
        "print(f\"The file size of the pre-trained YOLOv8 model is {file_size_mb:.2f} MB.\")"
      ],
      "metadata": {
        "colab": {
          "base_uri": "https://localhost:8080/"
        },
        "id": "u4_Hb2NASkCm",
        "outputId": "28d7bedc-6e45-45de-dd6b-7e8cc22789e8"
      },
      "execution_count": 54,
      "outputs": [
        {
          "output_type": "stream",
          "name": "stdout",
          "text": [
            "The file size of the pre-trained YOLOv8 model is 49.70 MB.\n"
          ]
        }
      ]
    },
    {
      "cell_type": "code",
      "source": [
        "model = YOLO(\"yolov8m.pt\")\n",
        "start_time = time.time()\n",
        "model.train(data='data.yaml', epochs=5, batch=8, imgsz=128)\n",
        "end_time = time.time()\n",
        "time_elapsed = end_time - start_time\n",
        "print(\"Time elapsed: \", time_elapsed)"
      ],
      "metadata": {
        "_kg_hide-output": true,
        "execution": {
          "iopub.status.busy": "2023-03-29T13:45:30.588718Z",
          "iopub.execute_input": "2023-03-29T13:45:30.589094Z",
          "iopub.status.idle": "2023-03-29T14:00:20.454495Z",
          "shell.execute_reply.started": "2023-03-29T13:45:30.589061Z",
          "shell.execute_reply": "2023-03-29T14:00:20.453385Z"
        },
        "trusted": true,
        "colab": {
          "base_uri": "https://localhost:8080/"
        },
        "id": "Ixkrg5vErFsE",
        "outputId": "70782ce8-add3-49fe-bd83-dfb2a322e980"
      },
      "execution_count": 22,
      "outputs": [
        {
          "output_type": "stream",
          "name": "stderr",
          "text": [
            "Ultralytics YOLOv8.0.208 🚀 Python-3.10.12 torch-2.1.0+cu118 CPU (Intel Xeon 2.20GHz)\n",
            "\u001b[34m\u001b[1mengine/trainer: \u001b[0mtask=detect, mode=train, model=yolov8m.pt, data=data.yaml, epochs=5, patience=50, batch=8, imgsz=128, save=True, save_period=-1, cache=False, device=None, workers=8, project=None, name=train2, exist_ok=False, pretrained=True, optimizer=auto, verbose=True, seed=0, deterministic=True, single_cls=False, rect=False, cos_lr=False, close_mosaic=10, resume=False, amp=True, fraction=1.0, profile=False, freeze=None, overlap_mask=True, mask_ratio=4, dropout=0.0, val=True, split=val, save_json=False, save_hybrid=False, conf=None, iou=0.7, max_det=300, half=False, dnn=False, plots=True, source=None, show=False, save_txt=False, save_conf=False, save_crop=False, show_labels=True, show_conf=True, vid_stride=1, stream_buffer=False, line_width=None, visualize=False, augment=False, agnostic_nms=False, classes=None, retina_masks=False, boxes=True, format=torchscript, keras=False, optimize=False, int8=False, dynamic=False, simplify=False, opset=None, workspace=4, nms=False, lr0=0.01, lrf=0.01, momentum=0.937, weight_decay=0.0005, warmup_epochs=3.0, warmup_momentum=0.8, warmup_bias_lr=0.1, box=7.5, cls=0.5, dfl=1.5, pose=12.0, kobj=1.0, label_smoothing=0.0, nbs=64, hsv_h=0.015, hsv_s=0.7, hsv_v=0.4, degrees=0.0, translate=0.1, scale=0.5, shear=0.0, perspective=0.0, flipud=0.0, fliplr=0.5, mosaic=1.0, mixup=0.0, copy_paste=0.0, cfg=None, tracker=botsort.yaml, save_dir=runs/detect/train2\n",
            "Overriding model.yaml nc=80 with nc=10\n",
            "\n",
            "                   from  n    params  module                                       arguments                     \n",
            "  0                  -1  1      1392  ultralytics.nn.modules.conv.Conv             [3, 48, 3, 2]                 \n",
            "  1                  -1  1     41664  ultralytics.nn.modules.conv.Conv             [48, 96, 3, 2]                \n",
            "  2                  -1  2    111360  ultralytics.nn.modules.block.C2f             [96, 96, 2, True]             \n",
            "  3                  -1  1    166272  ultralytics.nn.modules.conv.Conv             [96, 192, 3, 2]               \n",
            "  4                  -1  4    813312  ultralytics.nn.modules.block.C2f             [192, 192, 4, True]           \n",
            "  5                  -1  1    664320  ultralytics.nn.modules.conv.Conv             [192, 384, 3, 2]              \n",
            "  6                  -1  4   3248640  ultralytics.nn.modules.block.C2f             [384, 384, 4, True]           \n",
            "  7                  -1  1   1991808  ultralytics.nn.modules.conv.Conv             [384, 576, 3, 2]              \n",
            "  8                  -1  2   3985920  ultralytics.nn.modules.block.C2f             [576, 576, 2, True]           \n",
            "  9                  -1  1    831168  ultralytics.nn.modules.block.SPPF            [576, 576, 5]                 \n",
            " 10                  -1  1         0  torch.nn.modules.upsampling.Upsample         [None, 2, 'nearest']          \n",
            " 11             [-1, 6]  1         0  ultralytics.nn.modules.conv.Concat           [1]                           \n",
            " 12                  -1  2   1993728  ultralytics.nn.modules.block.C2f             [960, 384, 2]                 \n",
            " 13                  -1  1         0  torch.nn.modules.upsampling.Upsample         [None, 2, 'nearest']          \n",
            " 14             [-1, 4]  1         0  ultralytics.nn.modules.conv.Concat           [1]                           \n",
            " 15                  -1  2    517632  ultralytics.nn.modules.block.C2f             [576, 192, 2]                 \n",
            " 16                  -1  1    332160  ultralytics.nn.modules.conv.Conv             [192, 192, 3, 2]              \n",
            " 17            [-1, 12]  1         0  ultralytics.nn.modules.conv.Concat           [1]                           \n",
            " 18                  -1  2   1846272  ultralytics.nn.modules.block.C2f             [576, 384, 2]                 \n",
            " 19                  -1  1   1327872  ultralytics.nn.modules.conv.Conv             [384, 384, 3, 2]              \n",
            " 20             [-1, 9]  1         0  ultralytics.nn.modules.conv.Concat           [1]                           \n",
            " 21                  -1  2   4207104  ultralytics.nn.modules.block.C2f             [960, 576, 2]                 \n",
            " 22        [15, 18, 21]  1   3781486  ultralytics.nn.modules.head.Detect           [10, [192, 384, 576]]         \n",
            "Model summary: 295 layers, 25862110 parameters, 25862094 gradients, 79.1 GFLOPs\n",
            "\n",
            "Transferred 469/475 items from pretrained weights\n",
            "\u001b[34m\u001b[1mTensorBoard: \u001b[0mStart with 'tensorboard --logdir runs/detect/train2', view at http://localhost:6006/\n",
            "Freezing layer 'model.22.dfl.conv.weight'\n",
            "\u001b[34m\u001b[1mtrain: \u001b[0mScanning /content/train/labels.cache... 2145 images, 0 backgrounds, 0 corrupt: 100%|██████████| 2145/2145 [00:00<?, ?it/s]\n",
            "\u001b[34m\u001b[1malbumentations: \u001b[0mBlur(p=0.01, blur_limit=(3, 7)), MedianBlur(p=0.01, blur_limit=(3, 7)), ToGray(p=0.01), CLAHE(p=0.01, clip_limit=(1, 4.0), tile_grid_size=(8, 8))\n",
            "\u001b[34m\u001b[1mval: \u001b[0mScanning /content/test/labels.cache... 537 images, 0 backgrounds, 0 corrupt: 100%|██████████| 537/537 [00:00<?, ?it/s]\n",
            "Plotting labels to runs/detect/train2/labels.jpg... \n",
            "\u001b[34m\u001b[1moptimizer:\u001b[0m 'optimizer=auto' found, ignoring 'lr0=0.01' and 'momentum=0.937' and determining best 'optimizer', 'lr0' and 'momentum' automatically... \n",
            "\u001b[34m\u001b[1moptimizer:\u001b[0m AdamW(lr=0.000714, momentum=0.9) with parameter groups 77 weight(decay=0.0), 84 weight(decay=0.0005), 83 bias(decay=0.0)\n",
            "Image sizes 128 train, 128 val\n",
            "Using 0 dataloader workers\n",
            "Logging results to \u001b[1mruns/detect/train2\u001b[0m\n",
            "Starting training for 5 epochs...\n",
            "\n",
            "      Epoch    GPU_mem   box_loss   cls_loss   dfl_loss  Instances       Size\n",
            "        1/5         0G      1.719      1.968      1.203         10        128: 100%|██████████| 269/269 [10:49<00:00,  2.41s/it]\n",
            "                 Class     Images  Instances      Box(P          R      mAP50  mAP50-95): 100%|██████████| 34/34 [00:57<00:00,  1.69s/it]\n",
            "                   all        537       2035      0.689      0.518      0.535      0.306\n",
            "\n",
            "      Epoch    GPU_mem   box_loss   cls_loss   dfl_loss  Instances       Size\n",
            "        2/5         0G      1.512      1.231      1.091          6        128: 100%|██████████| 269/269 [10:45<00:00,  2.40s/it]\n",
            "                 Class     Images  Instances      Box(P          R      mAP50  mAP50-95): 100%|██████████| 34/34 [00:58<00:00,  1.71s/it]\n",
            "                   all        537       2035      0.696      0.582      0.602      0.357\n",
            "\n",
            "      Epoch    GPU_mem   box_loss   cls_loss   dfl_loss  Instances       Size\n",
            "        3/5         0G      1.471      1.164      1.079          5        128: 100%|██████████| 269/269 [10:25<00:00,  2.33s/it]\n",
            "                 Class     Images  Instances      Box(P          R      mAP50  mAP50-95): 100%|██████████| 34/34 [01:03<00:00,  1.87s/it]\n",
            "                   all        537       2035      0.731      0.605      0.636      0.382\n",
            "\n",
            "      Epoch    GPU_mem   box_loss   cls_loss   dfl_loss  Instances       Size\n",
            "        4/5         0G      1.381      1.047      1.046         12        128: 100%|██████████| 269/269 [11:05<00:00,  2.47s/it]\n",
            "                 Class     Images  Instances      Box(P          R      mAP50  mAP50-95): 100%|██████████| 34/34 [00:57<00:00,  1.68s/it]\n",
            "                   all        537       2035      0.762      0.605      0.656      0.405\n",
            "\n",
            "      Epoch    GPU_mem   box_loss   cls_loss   dfl_loss  Instances       Size\n",
            "        5/5         0G      1.354      1.018       1.04         11        128: 100%|██████████| 269/269 [10:35<00:00,  2.36s/it]\n",
            "                 Class     Images  Instances      Box(P          R      mAP50  mAP50-95): 100%|██████████| 34/34 [01:02<00:00,  1.84s/it]\n",
            "                   all        537       2035      0.653       0.61      0.656      0.408\n",
            "\n",
            "5 epochs completed in 0.985 hours.\n",
            "Optimizer stripped from runs/detect/train2/weights/last.pt, 52.0MB\n",
            "Optimizer stripped from runs/detect/train2/weights/best.pt, 52.0MB\n",
            "\n",
            "Validating runs/detect/train2/weights/best.pt...\n",
            "Ultralytics YOLOv8.0.208 🚀 Python-3.10.12 torch-2.1.0+cu118 CPU (Intel Xeon 2.20GHz)\n",
            "Model summary (fused): 218 layers, 25845550 parameters, 0 gradients, 78.7 GFLOPs\n",
            "                 Class     Images  Instances      Box(P          R      mAP50  mAP50-95): 100%|██████████| 34/34 [01:02<00:00,  1.84s/it]\n",
            "                   all        537       2035      0.653       0.61      0.656      0.408\n",
            "              sunglass        537         82     0.0992     0.0122     0.0251     0.0089\n",
            "                   hat        537         77      0.731      0.424       0.48      0.226\n",
            "                jacket        537        181      0.796      0.688      0.795      0.535\n",
            "                 shirt        537        366      0.723      0.727       0.75      0.442\n",
            "                 pants        537        114      0.857      0.845      0.908       0.68\n",
            "                shorts        537        107       0.88      0.411      0.717      0.426\n",
            "                 skirt        537        186      0.646      0.804      0.771      0.572\n",
            "                 dress        537        128      0.468      0.891       0.79      0.565\n",
            "                   bag        537        274      0.651       0.54       0.61      0.282\n",
            "                  shoe        537        520      0.683      0.757      0.716      0.344\n",
            "Speed: 0.1ms preprocess, 105.8ms inference, 0.0ms loss, 0.4ms postprocess per image\n",
            "Results saved to \u001b[1mruns/detect/train2\u001b[0m\n"
          ]
        },
        {
          "output_type": "stream",
          "name": "stdout",
          "text": [
            "Time elapsed:  3625.9400141239166\n"
          ]
        }
      ]
    },
    {
      "cell_type": "code",
      "source": [
        "# Load the checkpoint file\n",
        "baseline = torch.load('/content/runs/detect/train2/weights/best.pt')\n",
        "\n",
        "# The model is stored directly under the 'model' key\n",
        "model_bsl = baseline['model']\n",
        "\n",
        "# Put the model in evaluation mode\n",
        "model_bsl.eval()"
      ],
      "metadata": {
        "colab": {
          "base_uri": "https://localhost:8080/"
        },
        "id": "NPRVAA7al3FR",
        "outputId": "16805986-8081-4d16-a2ba-0d21faefb11e"
      },
      "execution_count": 37,
      "outputs": [
        {
          "output_type": "execute_result",
          "data": {
            "text/plain": [
              "DetectionModel(\n",
              "  (model): Sequential(\n",
              "    (0): Conv(\n",
              "      (conv): Conv2d(3, 48, kernel_size=(3, 3), stride=(2, 2), padding=(1, 1), bias=False)\n",
              "      (bn): BatchNorm2d(48, eps=0.001, momentum=0.03, affine=True, track_running_stats=True)\n",
              "      (act): SiLU(inplace=True)\n",
              "    )\n",
              "    (1): Conv(\n",
              "      (conv): Conv2d(48, 96, kernel_size=(3, 3), stride=(2, 2), padding=(1, 1), bias=False)\n",
              "      (bn): BatchNorm2d(96, eps=0.001, momentum=0.03, affine=True, track_running_stats=True)\n",
              "      (act): SiLU(inplace=True)\n",
              "    )\n",
              "    (2): C2f(\n",
              "      (cv1): Conv(\n",
              "        (conv): Conv2d(96, 96, kernel_size=(1, 1), stride=(1, 1), bias=False)\n",
              "        (bn): BatchNorm2d(96, eps=0.001, momentum=0.03, affine=True, track_running_stats=True)\n",
              "        (act): SiLU(inplace=True)\n",
              "      )\n",
              "      (cv2): Conv(\n",
              "        (conv): Conv2d(192, 96, kernel_size=(1, 1), stride=(1, 1), bias=False)\n",
              "        (bn): BatchNorm2d(96, eps=0.001, momentum=0.03, affine=True, track_running_stats=True)\n",
              "        (act): SiLU(inplace=True)\n",
              "      )\n",
              "      (m): ModuleList(\n",
              "        (0-1): 2 x Bottleneck(\n",
              "          (cv1): Conv(\n",
              "            (conv): Conv2d(48, 48, kernel_size=(3, 3), stride=(1, 1), padding=(1, 1), bias=False)\n",
              "            (bn): BatchNorm2d(48, eps=0.001, momentum=0.03, affine=True, track_running_stats=True)\n",
              "            (act): SiLU(inplace=True)\n",
              "          )\n",
              "          (cv2): Conv(\n",
              "            (conv): Conv2d(48, 48, kernel_size=(3, 3), stride=(1, 1), padding=(1, 1), bias=False)\n",
              "            (bn): BatchNorm2d(48, eps=0.001, momentum=0.03, affine=True, track_running_stats=True)\n",
              "            (act): SiLU(inplace=True)\n",
              "          )\n",
              "        )\n",
              "      )\n",
              "    )\n",
              "    (3): Conv(\n",
              "      (conv): Conv2d(96, 192, kernel_size=(3, 3), stride=(2, 2), padding=(1, 1), bias=False)\n",
              "      (bn): BatchNorm2d(192, eps=0.001, momentum=0.03, affine=True, track_running_stats=True)\n",
              "      (act): SiLU(inplace=True)\n",
              "    )\n",
              "    (4): C2f(\n",
              "      (cv1): Conv(\n",
              "        (conv): Conv2d(192, 192, kernel_size=(1, 1), stride=(1, 1), bias=False)\n",
              "        (bn): BatchNorm2d(192, eps=0.001, momentum=0.03, affine=True, track_running_stats=True)\n",
              "        (act): SiLU(inplace=True)\n",
              "      )\n",
              "      (cv2): Conv(\n",
              "        (conv): Conv2d(576, 192, kernel_size=(1, 1), stride=(1, 1), bias=False)\n",
              "        (bn): BatchNorm2d(192, eps=0.001, momentum=0.03, affine=True, track_running_stats=True)\n",
              "        (act): SiLU(inplace=True)\n",
              "      )\n",
              "      (m): ModuleList(\n",
              "        (0-3): 4 x Bottleneck(\n",
              "          (cv1): Conv(\n",
              "            (conv): Conv2d(96, 96, kernel_size=(3, 3), stride=(1, 1), padding=(1, 1), bias=False)\n",
              "            (bn): BatchNorm2d(96, eps=0.001, momentum=0.03, affine=True, track_running_stats=True)\n",
              "            (act): SiLU(inplace=True)\n",
              "          )\n",
              "          (cv2): Conv(\n",
              "            (conv): Conv2d(96, 96, kernel_size=(3, 3), stride=(1, 1), padding=(1, 1), bias=False)\n",
              "            (bn): BatchNorm2d(96, eps=0.001, momentum=0.03, affine=True, track_running_stats=True)\n",
              "            (act): SiLU(inplace=True)\n",
              "          )\n",
              "        )\n",
              "      )\n",
              "    )\n",
              "    (5): Conv(\n",
              "      (conv): Conv2d(192, 384, kernel_size=(3, 3), stride=(2, 2), padding=(1, 1), bias=False)\n",
              "      (bn): BatchNorm2d(384, eps=0.001, momentum=0.03, affine=True, track_running_stats=True)\n",
              "      (act): SiLU(inplace=True)\n",
              "    )\n",
              "    (6): C2f(\n",
              "      (cv1): Conv(\n",
              "        (conv): Conv2d(384, 384, kernel_size=(1, 1), stride=(1, 1), bias=False)\n",
              "        (bn): BatchNorm2d(384, eps=0.001, momentum=0.03, affine=True, track_running_stats=True)\n",
              "        (act): SiLU(inplace=True)\n",
              "      )\n",
              "      (cv2): Conv(\n",
              "        (conv): Conv2d(1152, 384, kernel_size=(1, 1), stride=(1, 1), bias=False)\n",
              "        (bn): BatchNorm2d(384, eps=0.001, momentum=0.03, affine=True, track_running_stats=True)\n",
              "        (act): SiLU(inplace=True)\n",
              "      )\n",
              "      (m): ModuleList(\n",
              "        (0-3): 4 x Bottleneck(\n",
              "          (cv1): Conv(\n",
              "            (conv): Conv2d(192, 192, kernel_size=(3, 3), stride=(1, 1), padding=(1, 1), bias=False)\n",
              "            (bn): BatchNorm2d(192, eps=0.001, momentum=0.03, affine=True, track_running_stats=True)\n",
              "            (act): SiLU(inplace=True)\n",
              "          )\n",
              "          (cv2): Conv(\n",
              "            (conv): Conv2d(192, 192, kernel_size=(3, 3), stride=(1, 1), padding=(1, 1), bias=False)\n",
              "            (bn): BatchNorm2d(192, eps=0.001, momentum=0.03, affine=True, track_running_stats=True)\n",
              "            (act): SiLU(inplace=True)\n",
              "          )\n",
              "        )\n",
              "      )\n",
              "    )\n",
              "    (7): Conv(\n",
              "      (conv): Conv2d(384, 576, kernel_size=(3, 3), stride=(2, 2), padding=(1, 1), bias=False)\n",
              "      (bn): BatchNorm2d(576, eps=0.001, momentum=0.03, affine=True, track_running_stats=True)\n",
              "      (act): SiLU(inplace=True)\n",
              "    )\n",
              "    (8): C2f(\n",
              "      (cv1): Conv(\n",
              "        (conv): Conv2d(576, 576, kernel_size=(1, 1), stride=(1, 1), bias=False)\n",
              "        (bn): BatchNorm2d(576, eps=0.001, momentum=0.03, affine=True, track_running_stats=True)\n",
              "        (act): SiLU(inplace=True)\n",
              "      )\n",
              "      (cv2): Conv(\n",
              "        (conv): Conv2d(1152, 576, kernel_size=(1, 1), stride=(1, 1), bias=False)\n",
              "        (bn): BatchNorm2d(576, eps=0.001, momentum=0.03, affine=True, track_running_stats=True)\n",
              "        (act): SiLU(inplace=True)\n",
              "      )\n",
              "      (m): ModuleList(\n",
              "        (0-1): 2 x Bottleneck(\n",
              "          (cv1): Conv(\n",
              "            (conv): Conv2d(288, 288, kernel_size=(3, 3), stride=(1, 1), padding=(1, 1), bias=False)\n",
              "            (bn): BatchNorm2d(288, eps=0.001, momentum=0.03, affine=True, track_running_stats=True)\n",
              "            (act): SiLU(inplace=True)\n",
              "          )\n",
              "          (cv2): Conv(\n",
              "            (conv): Conv2d(288, 288, kernel_size=(3, 3), stride=(1, 1), padding=(1, 1), bias=False)\n",
              "            (bn): BatchNorm2d(288, eps=0.001, momentum=0.03, affine=True, track_running_stats=True)\n",
              "            (act): SiLU(inplace=True)\n",
              "          )\n",
              "        )\n",
              "      )\n",
              "    )\n",
              "    (9): SPPF(\n",
              "      (cv1): Conv(\n",
              "        (conv): Conv2d(576, 288, kernel_size=(1, 1), stride=(1, 1), bias=False)\n",
              "        (bn): BatchNorm2d(288, eps=0.001, momentum=0.03, affine=True, track_running_stats=True)\n",
              "        (act): SiLU(inplace=True)\n",
              "      )\n",
              "      (cv2): Conv(\n",
              "        (conv): Conv2d(1152, 576, kernel_size=(1, 1), stride=(1, 1), bias=False)\n",
              "        (bn): BatchNorm2d(576, eps=0.001, momentum=0.03, affine=True, track_running_stats=True)\n",
              "        (act): SiLU(inplace=True)\n",
              "      )\n",
              "      (m): MaxPool2d(kernel_size=5, stride=1, padding=2, dilation=1, ceil_mode=False)\n",
              "    )\n",
              "    (10): Upsample(scale_factor=2.0, mode='nearest')\n",
              "    (11): Concat()\n",
              "    (12): C2f(\n",
              "      (cv1): Conv(\n",
              "        (conv): Conv2d(960, 384, kernel_size=(1, 1), stride=(1, 1), bias=False)\n",
              "        (bn): BatchNorm2d(384, eps=0.001, momentum=0.03, affine=True, track_running_stats=True)\n",
              "        (act): SiLU(inplace=True)\n",
              "      )\n",
              "      (cv2): Conv(\n",
              "        (conv): Conv2d(768, 384, kernel_size=(1, 1), stride=(1, 1), bias=False)\n",
              "        (bn): BatchNorm2d(384, eps=0.001, momentum=0.03, affine=True, track_running_stats=True)\n",
              "        (act): SiLU(inplace=True)\n",
              "      )\n",
              "      (m): ModuleList(\n",
              "        (0-1): 2 x Bottleneck(\n",
              "          (cv1): Conv(\n",
              "            (conv): Conv2d(192, 192, kernel_size=(3, 3), stride=(1, 1), padding=(1, 1), bias=False)\n",
              "            (bn): BatchNorm2d(192, eps=0.001, momentum=0.03, affine=True, track_running_stats=True)\n",
              "            (act): SiLU(inplace=True)\n",
              "          )\n",
              "          (cv2): Conv(\n",
              "            (conv): Conv2d(192, 192, kernel_size=(3, 3), stride=(1, 1), padding=(1, 1), bias=False)\n",
              "            (bn): BatchNorm2d(192, eps=0.001, momentum=0.03, affine=True, track_running_stats=True)\n",
              "            (act): SiLU(inplace=True)\n",
              "          )\n",
              "        )\n",
              "      )\n",
              "    )\n",
              "    (13): Upsample(scale_factor=2.0, mode='nearest')\n",
              "    (14): Concat()\n",
              "    (15): C2f(\n",
              "      (cv1): Conv(\n",
              "        (conv): Conv2d(576, 192, kernel_size=(1, 1), stride=(1, 1), bias=False)\n",
              "        (bn): BatchNorm2d(192, eps=0.001, momentum=0.03, affine=True, track_running_stats=True)\n",
              "        (act): SiLU(inplace=True)\n",
              "      )\n",
              "      (cv2): Conv(\n",
              "        (conv): Conv2d(384, 192, kernel_size=(1, 1), stride=(1, 1), bias=False)\n",
              "        (bn): BatchNorm2d(192, eps=0.001, momentum=0.03, affine=True, track_running_stats=True)\n",
              "        (act): SiLU(inplace=True)\n",
              "      )\n",
              "      (m): ModuleList(\n",
              "        (0-1): 2 x Bottleneck(\n",
              "          (cv1): Conv(\n",
              "            (conv): Conv2d(96, 96, kernel_size=(3, 3), stride=(1, 1), padding=(1, 1), bias=False)\n",
              "            (bn): BatchNorm2d(96, eps=0.001, momentum=0.03, affine=True, track_running_stats=True)\n",
              "            (act): SiLU(inplace=True)\n",
              "          )\n",
              "          (cv2): Conv(\n",
              "            (conv): Conv2d(96, 96, kernel_size=(3, 3), stride=(1, 1), padding=(1, 1), bias=False)\n",
              "            (bn): BatchNorm2d(96, eps=0.001, momentum=0.03, affine=True, track_running_stats=True)\n",
              "            (act): SiLU(inplace=True)\n",
              "          )\n",
              "        )\n",
              "      )\n",
              "    )\n",
              "    (16): Conv(\n",
              "      (conv): Conv2d(192, 192, kernel_size=(3, 3), stride=(2, 2), padding=(1, 1), bias=False)\n",
              "      (bn): BatchNorm2d(192, eps=0.001, momentum=0.03, affine=True, track_running_stats=True)\n",
              "      (act): SiLU(inplace=True)\n",
              "    )\n",
              "    (17): Concat()\n",
              "    (18): C2f(\n",
              "      (cv1): Conv(\n",
              "        (conv): Conv2d(576, 384, kernel_size=(1, 1), stride=(1, 1), bias=False)\n",
              "        (bn): BatchNorm2d(384, eps=0.001, momentum=0.03, affine=True, track_running_stats=True)\n",
              "        (act): SiLU(inplace=True)\n",
              "      )\n",
              "      (cv2): Conv(\n",
              "        (conv): Conv2d(768, 384, kernel_size=(1, 1), stride=(1, 1), bias=False)\n",
              "        (bn): BatchNorm2d(384, eps=0.001, momentum=0.03, affine=True, track_running_stats=True)\n",
              "        (act): SiLU(inplace=True)\n",
              "      )\n",
              "      (m): ModuleList(\n",
              "        (0-1): 2 x Bottleneck(\n",
              "          (cv1): Conv(\n",
              "            (conv): Conv2d(192, 192, kernel_size=(3, 3), stride=(1, 1), padding=(1, 1), bias=False)\n",
              "            (bn): BatchNorm2d(192, eps=0.001, momentum=0.03, affine=True, track_running_stats=True)\n",
              "            (act): SiLU(inplace=True)\n",
              "          )\n",
              "          (cv2): Conv(\n",
              "            (conv): Conv2d(192, 192, kernel_size=(3, 3), stride=(1, 1), padding=(1, 1), bias=False)\n",
              "            (bn): BatchNorm2d(192, eps=0.001, momentum=0.03, affine=True, track_running_stats=True)\n",
              "            (act): SiLU(inplace=True)\n",
              "          )\n",
              "        )\n",
              "      )\n",
              "    )\n",
              "    (19): Conv(\n",
              "      (conv): Conv2d(384, 384, kernel_size=(3, 3), stride=(2, 2), padding=(1, 1), bias=False)\n",
              "      (bn): BatchNorm2d(384, eps=0.001, momentum=0.03, affine=True, track_running_stats=True)\n",
              "      (act): SiLU(inplace=True)\n",
              "    )\n",
              "    (20): Concat()\n",
              "    (21): C2f(\n",
              "      (cv1): Conv(\n",
              "        (conv): Conv2d(960, 576, kernel_size=(1, 1), stride=(1, 1), bias=False)\n",
              "        (bn): BatchNorm2d(576, eps=0.001, momentum=0.03, affine=True, track_running_stats=True)\n",
              "        (act): SiLU(inplace=True)\n",
              "      )\n",
              "      (cv2): Conv(\n",
              "        (conv): Conv2d(1152, 576, kernel_size=(1, 1), stride=(1, 1), bias=False)\n",
              "        (bn): BatchNorm2d(576, eps=0.001, momentum=0.03, affine=True, track_running_stats=True)\n",
              "        (act): SiLU(inplace=True)\n",
              "      )\n",
              "      (m): ModuleList(\n",
              "        (0-1): 2 x Bottleneck(\n",
              "          (cv1): Conv(\n",
              "            (conv): Conv2d(288, 288, kernel_size=(3, 3), stride=(1, 1), padding=(1, 1), bias=False)\n",
              "            (bn): BatchNorm2d(288, eps=0.001, momentum=0.03, affine=True, track_running_stats=True)\n",
              "            (act): SiLU(inplace=True)\n",
              "          )\n",
              "          (cv2): Conv(\n",
              "            (conv): Conv2d(288, 288, kernel_size=(3, 3), stride=(1, 1), padding=(1, 1), bias=False)\n",
              "            (bn): BatchNorm2d(288, eps=0.001, momentum=0.03, affine=True, track_running_stats=True)\n",
              "            (act): SiLU(inplace=True)\n",
              "          )\n",
              "        )\n",
              "      )\n",
              "    )\n",
              "    (22): Detect(\n",
              "      (cv2): ModuleList(\n",
              "        (0): Sequential(\n",
              "          (0): Conv(\n",
              "            (conv): Conv2d(192, 64, kernel_size=(3, 3), stride=(1, 1), padding=(1, 1), bias=False)\n",
              "            (bn): BatchNorm2d(64, eps=0.001, momentum=0.03, affine=True, track_running_stats=True)\n",
              "            (act): SiLU(inplace=True)\n",
              "          )\n",
              "          (1): Conv(\n",
              "            (conv): Conv2d(64, 64, kernel_size=(3, 3), stride=(1, 1), padding=(1, 1), bias=False)\n",
              "            (bn): BatchNorm2d(64, eps=0.001, momentum=0.03, affine=True, track_running_stats=True)\n",
              "            (act): SiLU(inplace=True)\n",
              "          )\n",
              "          (2): Conv2d(64, 64, kernel_size=(1, 1), stride=(1, 1))\n",
              "        )\n",
              "        (1): Sequential(\n",
              "          (0): Conv(\n",
              "            (conv): Conv2d(384, 64, kernel_size=(3, 3), stride=(1, 1), padding=(1, 1), bias=False)\n",
              "            (bn): BatchNorm2d(64, eps=0.001, momentum=0.03, affine=True, track_running_stats=True)\n",
              "            (act): SiLU(inplace=True)\n",
              "          )\n",
              "          (1): Conv(\n",
              "            (conv): Conv2d(64, 64, kernel_size=(3, 3), stride=(1, 1), padding=(1, 1), bias=False)\n",
              "            (bn): BatchNorm2d(64, eps=0.001, momentum=0.03, affine=True, track_running_stats=True)\n",
              "            (act): SiLU(inplace=True)\n",
              "          )\n",
              "          (2): Conv2d(64, 64, kernel_size=(1, 1), stride=(1, 1))\n",
              "        )\n",
              "        (2): Sequential(\n",
              "          (0): Conv(\n",
              "            (conv): Conv2d(576, 64, kernel_size=(3, 3), stride=(1, 1), padding=(1, 1), bias=False)\n",
              "            (bn): BatchNorm2d(64, eps=0.001, momentum=0.03, affine=True, track_running_stats=True)\n",
              "            (act): SiLU(inplace=True)\n",
              "          )\n",
              "          (1): Conv(\n",
              "            (conv): Conv2d(64, 64, kernel_size=(3, 3), stride=(1, 1), padding=(1, 1), bias=False)\n",
              "            (bn): BatchNorm2d(64, eps=0.001, momentum=0.03, affine=True, track_running_stats=True)\n",
              "            (act): SiLU(inplace=True)\n",
              "          )\n",
              "          (2): Conv2d(64, 64, kernel_size=(1, 1), stride=(1, 1))\n",
              "        )\n",
              "      )\n",
              "      (cv3): ModuleList(\n",
              "        (0): Sequential(\n",
              "          (0): Conv(\n",
              "            (conv): Conv2d(192, 192, kernel_size=(3, 3), stride=(1, 1), padding=(1, 1), bias=False)\n",
              "            (bn): BatchNorm2d(192, eps=0.001, momentum=0.03, affine=True, track_running_stats=True)\n",
              "            (act): SiLU(inplace=True)\n",
              "          )\n",
              "          (1): Conv(\n",
              "            (conv): Conv2d(192, 192, kernel_size=(3, 3), stride=(1, 1), padding=(1, 1), bias=False)\n",
              "            (bn): BatchNorm2d(192, eps=0.001, momentum=0.03, affine=True, track_running_stats=True)\n",
              "            (act): SiLU(inplace=True)\n",
              "          )\n",
              "          (2): Conv2d(192, 10, kernel_size=(1, 1), stride=(1, 1))\n",
              "        )\n",
              "        (1): Sequential(\n",
              "          (0): Conv(\n",
              "            (conv): Conv2d(384, 192, kernel_size=(3, 3), stride=(1, 1), padding=(1, 1), bias=False)\n",
              "            (bn): BatchNorm2d(192, eps=0.001, momentum=0.03, affine=True, track_running_stats=True)\n",
              "            (act): SiLU(inplace=True)\n",
              "          )\n",
              "          (1): Conv(\n",
              "            (conv): Conv2d(192, 192, kernel_size=(3, 3), stride=(1, 1), padding=(1, 1), bias=False)\n",
              "            (bn): BatchNorm2d(192, eps=0.001, momentum=0.03, affine=True, track_running_stats=True)\n",
              "            (act): SiLU(inplace=True)\n",
              "          )\n",
              "          (2): Conv2d(192, 10, kernel_size=(1, 1), stride=(1, 1))\n",
              "        )\n",
              "        (2): Sequential(\n",
              "          (0): Conv(\n",
              "            (conv): Conv2d(576, 192, kernel_size=(3, 3), stride=(1, 1), padding=(1, 1), bias=False)\n",
              "            (bn): BatchNorm2d(192, eps=0.001, momentum=0.03, affine=True, track_running_stats=True)\n",
              "            (act): SiLU(inplace=True)\n",
              "          )\n",
              "          (1): Conv(\n",
              "            (conv): Conv2d(192, 192, kernel_size=(3, 3), stride=(1, 1), padding=(1, 1), bias=False)\n",
              "            (bn): BatchNorm2d(192, eps=0.001, momentum=0.03, affine=True, track_running_stats=True)\n",
              "            (act): SiLU(inplace=True)\n",
              "          )\n",
              "          (2): Conv2d(192, 10, kernel_size=(1, 1), stride=(1, 1))\n",
              "        )\n",
              "      )\n",
              "      (dfl): DFL(\n",
              "        (conv): Conv2d(16, 1, kernel_size=(1, 1), stride=(1, 1), bias=False)\n",
              "      )\n",
              "    )\n",
              "  )\n",
              ")"
            ]
          },
          "metadata": {},
          "execution_count": 37
        }
      ]
    },
    {
      "cell_type": "code",
      "source": [
        "file_size_bytes = os.path.getsize('/content/runs/detect/train2/weights/best.pt')\n",
        "file_size_mb = file_size_bytes / (2**20)\n",
        "\n",
        "print(f\"The file size of the custom YOLOv8 model is {file_size_mb:.2f} MB.\")"
      ],
      "metadata": {
        "colab": {
          "base_uri": "https://localhost:8080/"
        },
        "id": "DzrrfgbRuDin",
        "outputId": "1994ae6f-69be-4bec-d428-a0482b6dc2b7"
      },
      "execution_count": 55,
      "outputs": [
        {
          "output_type": "stream",
          "name": "stdout",
          "text": [
            "The file size of the custom YOLOv8 model is 49.58 MB.\n"
          ]
        }
      ]
    },
    {
      "cell_type": "code",
      "source": [
        "# Load the unoptimized baseline model file\n",
        "checkpoint = torch.load('/content/runs/detect/train2/weights/best.pt')\n",
        "\n",
        "# The model is stored directly under the 'model' key\n",
        "model_bsl = checkpoint['model']\n",
        "\n",
        "# Convert model to full precision (FP32)\n",
        "model_bsl.float()\n",
        "\n",
        "# Put the model in evaluation mode\n",
        "model_bsl.eval()"
      ],
      "metadata": {
        "id": "yor-b09QpGAZ"
      },
      "execution_count": null,
      "outputs": []
    },
    {
      "cell_type": "code",
      "source": [
        "!pip install onnx\n",
        "!pip install onnxruntime"
      ],
      "metadata": {
        "colab": {
          "base_uri": "https://localhost:8080/"
        },
        "id": "IAefhrXmaFDN",
        "outputId": "a69a5ca0-10e0-4c04-c3a3-ff2c53118277"
      },
      "execution_count": 49,
      "outputs": [
        {
          "output_type": "stream",
          "name": "stdout",
          "text": [
            "Collecting onnx\n",
            "  Downloading onnx-1.15.0-cp310-cp310-manylinux_2_17_x86_64.manylinux2014_x86_64.whl (15.7 MB)\n",
            "\u001b[2K     \u001b[90m━━━━━━━━━━━━━━━━━━━━━━━━━━━━━━━━━━━━━━━━\u001b[0m \u001b[32m15.7/15.7 MB\u001b[0m \u001b[31m69.8 MB/s\u001b[0m eta \u001b[36m0:00:00\u001b[0m\n",
            "\u001b[?25hRequirement already satisfied: numpy in /usr/local/lib/python3.10/dist-packages (from onnx) (1.23.5)\n",
            "Requirement already satisfied: protobuf>=3.20.2 in /usr/local/lib/python3.10/dist-packages (from onnx) (3.20.3)\n",
            "Installing collected packages: onnx\n",
            "Successfully installed onnx-1.15.0\n",
            "Requirement already satisfied: onnxruntime in /usr/local/lib/python3.10/dist-packages (1.16.1)\n",
            "Requirement already satisfied: coloredlogs in /usr/local/lib/python3.10/dist-packages (from onnxruntime) (15.0.1)\n",
            "Requirement already satisfied: flatbuffers in /usr/local/lib/python3.10/dist-packages (from onnxruntime) (23.5.26)\n",
            "Requirement already satisfied: numpy>=1.21.6 in /usr/local/lib/python3.10/dist-packages (from onnxruntime) (1.23.5)\n",
            "Requirement already satisfied: packaging in /usr/local/lib/python3.10/dist-packages (from onnxruntime) (23.2)\n",
            "Requirement already satisfied: protobuf in /usr/local/lib/python3.10/dist-packages (from onnxruntime) (3.20.3)\n",
            "Requirement already satisfied: sympy in /usr/local/lib/python3.10/dist-packages (from onnxruntime) (1.12)\n",
            "Requirement already satisfied: humanfriendly>=9.1 in /usr/local/lib/python3.10/dist-packages (from coloredlogs->onnxruntime) (10.0)\n",
            "Requirement already satisfied: mpmath>=0.19 in /usr/local/lib/python3.10/dist-packages (from sympy->onnxruntime) (1.3.0)\n"
          ]
        }
      ]
    },
    {
      "cell_type": "markdown",
      "source": [],
      "metadata": {
        "id": "4ZHBcMuseRl3"
      }
    },
    {
      "cell_type": "code",
      "source": [
        "from PIL import Image\n",
        "from torchvision import transforms\n",
        "\n",
        "# Load an image\n",
        "image_path = '/content/test/images/10226.jpg'\n",
        "image = Image.open(image_path).convert('RGB')\n",
        "\n",
        "# Define the standard YOLOv8 preprocessing transformations\n",
        "# These values (mean and std) should be the ones used during the training of your model\n",
        "preprocess = transforms.Compose([\n",
        "    transforms.Resize((128, 128)),  # Resize the image to the size your model expects\n",
        "    transforms.ToTensor(),          # Convert the image to a tensor\n",
        "    transforms.Normalize(mean=[0.485, 0.456, 0.406], std=[0.229, 0.224, 0.225]),  # Normalize the image\n",
        "])\n",
        "\n",
        "# Apply the preprocessing to the image\n",
        "input_tensor = preprocess(image)\n",
        "\n",
        "# Add a batch dimension by using 'unsqueeze'\n",
        "input_tensor = input_tensor.unsqueeze(0)\n"
      ],
      "metadata": {
        "id": "3W1CypFxy2LO"
      },
      "execution_count": 76,
      "outputs": []
    },
    {
      "cell_type": "code",
      "source": [
        "# If using a GPU, transfer the model and input tensor to the GPU\n",
        "# Otherwise, make sure both are on the CPU\n",
        "if torch.cuda.is_available():\n",
        "    model_bsl.cuda()\n",
        "    input_tensor = input_tensor.cuda()\n",
        "    print(\"GPU\")\n",
        "else:\n",
        "    model_bsl.cpu()\n",
        "    input_tensor = input_tensor.cpu()\n",
        "    print(\"CPU\")\n",
        "\n",
        "# Perform inference in full precision\n",
        "with torch.no_grad():\n",
        "    start_time = time.time()\n",
        "    outputs = model_bsl(input_tensor)\n",
        "    end_time = time.time()\n",
        "\n",
        "# Calculate the inference time\n",
        "inference_time = end_time - start_time\n",
        "print(f\"Inference Time: {inference_time:.6f} seconds\")"
      ],
      "metadata": {
        "colab": {
          "base_uri": "https://localhost:8080/"
        },
        "id": "6XHHFBRc1Fnr",
        "outputId": "c9cf2493-85ba-4634-9443-689be3e4884a"
      },
      "execution_count": 77,
      "outputs": [
        {
          "output_type": "stream",
          "name": "stdout",
          "text": [
            "CPU\n",
            "Inference Time: 0.315691 seconds\n"
          ]
        }
      ]
    },
    {
      "cell_type": "code",
      "source": [
        "# Convert to TorchScript using tracing\n",
        "# Note: Tracing records the operations as they are executed on the provided input tensor\n",
        "scripted_model = torch.jit.trace(model_bsl, input_tensor, strict=False)\n",
        "scripted_model.save('fashion_yolov8_torchscript_model_1.pt')\n",
        "\n",
        "# Benchmark the inference time for TorchScript model\n",
        "with torch.no_grad():\n",
        "    start_time = time.time()\n",
        "    outputs = scripted_model(input_tensor)\n",
        "    end_time = time.time()\n",
        "\n",
        "torchscript_inference_time = end_time - start_time\n",
        "print(f\"TorchScript Inference Time: {torchscript_inference_time:.6f} seconds\")"
      ],
      "metadata": {
        "colab": {
          "base_uri": "https://localhost:8080/"
        },
        "id": "vyho82E-1UCa",
        "outputId": "3800e9ea-33b7-4c46-f4b1-4cbcf6a35103"
      },
      "execution_count": 80,
      "outputs": [
        {
          "output_type": "stream",
          "name": "stderr",
          "text": [
            "/usr/local/lib/python3.10/dist-packages/ultralytics/nn/modules/head.py:49: TracerWarning: Converting a tensor to a Python boolean might cause the trace to be incorrect. We can't record the data flow of Python values, so this value will be treated as a constant in the future. This means that the trace might not generalize to other inputs!\n",
            "  elif self.dynamic or self.shape != shape:\n"
          ]
        },
        {
          "output_type": "stream",
          "name": "stdout",
          "text": [
            "TorchScript Inference Time: 0.278856 seconds\n"
          ]
        }
      ]
    },
    {
      "cell_type": "code",
      "source": [
        "file_size_bytes = os.path.getsize('/content/fashion_yolov8_torchscript_model_1.pt')\n",
        "file_size_mb = file_size_bytes / (2**20)\n",
        "\n",
        "print(f\"The file size of the TorchScript model is {file_size_mb:.2f} MB.\")"
      ],
      "metadata": {
        "colab": {
          "base_uri": "https://localhost:8080/"
        },
        "id": "i9MMcMZv2I0h",
        "outputId": "1500cc21-a1e7-4af3-de72-7827deb2b1f5"
      },
      "execution_count": 83,
      "outputs": [
        {
          "output_type": "stream",
          "name": "stdout",
          "text": [
            "The file size of the TorchScript model is 99.51 MB.\n"
          ]
        }
      ]
    },
    {
      "cell_type": "code",
      "source": [
        "import onnxruntime\n",
        "import numpy as np\n",
        "\n",
        "# Export the model to ONNX format\n",
        "torch.onnx.export(model_bsl, input_tensor, 'fashion_yolov8_model_1.onnx', export_params=True, opset_version=11)\n",
        "\n",
        "# Load the ONNX model with ONNX Runtime\n",
        "ort_session = onnxruntime.InferenceSession('fashion_yolov8_model_1.onnx')\n",
        "\n",
        "# Convert the input to a format that ONNX Runtime understands\n",
        "def to_numpy(tensor):\n",
        "    return tensor.detach().cpu().numpy() if tensor.requires_grad else tensor.cpu().numpy()\n",
        "\n",
        "ort_inputs = {ort_session.get_inputs()[0].name: to_numpy(input_tensor)}\n",
        "\n",
        "# Benchmark the inference time for ONNX model\n",
        "start_time = time.time()\n",
        "ort_outs = ort_session.run(None, ort_inputs)\n",
        "end_time = time.time()\n",
        "\n",
        "onnx_inference_time = end_time - start_time\n",
        "print(f\"ONNX Inference Time: {onnx_inference_time:.6f} seconds\")"
      ],
      "metadata": {
        "colab": {
          "base_uri": "https://localhost:8080/"
        },
        "id": "ZH485lDs1oT0",
        "outputId": "3abaec32-8473-4001-ff08-e3626ce2e1d5"
      },
      "execution_count": 81,
      "outputs": [
        {
          "output_type": "stream",
          "name": "stdout",
          "text": [
            "ONNX Inference Time: 0.070989 seconds\n"
          ]
        }
      ]
    },
    {
      "cell_type": "code",
      "source": [
        "file_size_bytes = os.path.getsize('/content/fashion_yolov8_model_1.onnx')\n",
        "file_size_mb = file_size_bytes / (2**20)\n",
        "\n",
        "print(f\"The file size of the ONNX model is {file_size_mb:.2f} MB.\")"
      ],
      "metadata": {
        "colab": {
          "base_uri": "https://localhost:8080/"
        },
        "id": "WMNJtmIt15mK",
        "outputId": "cf17e287-fd7b-45b6-db23-74d6a2ba39c0"
      },
      "execution_count": 82,
      "outputs": [
        {
          "output_type": "stream",
          "name": "stdout",
          "text": [
            "The file size of the ONNX model is 98.66 MB.\n"
          ]
        }
      ]
    },
    {
      "cell_type": "code",
      "source": [
        "import matplotlib.pyplot as plt\n",
        "# Model sizes are found in the code above\n",
        "# All models\n",
        "model_names = ['baseline_yolov8', 'torchscript', 'onnx']\n",
        "# Model Size Comparison\n",
        "model_sizes = [49.58, 99.51, 98.66]\n",
        "# Inference Time Comparison\n",
        "inference_times = [0.315691, 0.278856, 0.070989]"
      ],
      "metadata": {
        "id": "WLgyLFPt4ovE"
      },
      "execution_count": 90,
      "outputs": []
    },
    {
      "cell_type": "code",
      "source": [
        "# Plot model name vs model size\n",
        "plt.figure(figsize=(8, 6))\n",
        "plt.bar(model_names, model_sizes, color='skyblue')\n",
        "plt.xlabel('Model Name')\n",
        "plt.ylabel('Model Size (MB)')\n",
        "plt.title('Model Size Comparison')\n",
        "plt.xticks(rotation=45)  # Rotate the x-axis labels if they overlap\n",
        "for i, v in enumerate(model_sizes):\n",
        "    plt.text(i, v + 0.5, str(v), color='blue', ha='center')\n",
        "plt.tight_layout()\n",
        "plt.show()\n"
      ],
      "metadata": {
        "colab": {
          "base_uri": "https://localhost:8080/",
          "height": 607
        },
        "id": "x37HxAwk9uKM",
        "outputId": "b5304058-d7af-431c-91e1-c67b8d8a2120"
      },
      "execution_count": 95,
      "outputs": [
        {
          "output_type": "display_data",
          "data": {
            "text/plain": [
              "<Figure size 800x600 with 1 Axes>"
            ],
            "image/png": "[encoded data removed]"
          },
          "metadata": {}
        }
      ]
    },
    {
      "cell_type": "code",
      "source": [
        "\n",
        "# Plot model name vs inference time\n",
        "plt.figure(figsize=(8, 6))\n",
        "plt.bar(model_names, inference_times, color='lightgreen')\n",
        "plt.xlabel('Model Name')\n",
        "plt.ylabel('Inference Time (seconds)')\n",
        "plt.title('Inference Time Comparison')\n",
        "plt.xticks(rotation=45)  # Rotate the x-axis labels if they overlap\n",
        "for i, v in enumerate(inference_times):\n",
        "    plt.text(i, v + 0.005, f\"{v:.2f}\", color='green', ha='center')\n",
        "plt.tight_layout()\n",
        "plt.show()"
      ],
      "metadata": {
        "colab": {
          "base_uri": "https://localhost:8080/",
          "height": 607
        },
        "id": "Rj-osZF191vy",
        "outputId": "efc7846c-1da1-4142-89db-8854daf5047a"
      },
      "execution_count": 94,
      "outputs": [
        {
          "output_type": "display_data",
          "data": {
            "text/plain": [
              "<Figure size 800x600 with 1 Axes>"
            ],
            "image/png": "[encoded data removed]"
          },
          "metadata": {}
        }
      ]
    },
    {
      "cell_type": "code",
      "source": [],
      "metadata": {
        "id": "lBT02ry-98rI"
      },
      "execution_count": null,
      "outputs": []
    }
  ]
}