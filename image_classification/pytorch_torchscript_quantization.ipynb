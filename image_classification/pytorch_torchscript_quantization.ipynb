{
  "cells": [
    {
      "cell_type": "markdown",
      "id": "c54975c6",
      "metadata": {
        "id": "c54975c6"
      },
      "source": [
        "# Image Classification - Inference Optimization\n"
      ]
    },
    {
      "cell_type": "markdown",
      "source": [
        "## Aproach 1: PyTorch vs TorchScript Inference"
      ],
      "metadata": {
        "id": "MzFPsneLn_od"
      },
      "id": "MzFPsneLn_od"
    },
    {
      "cell_type": "code",
      "source": [
        "# Import packages\n",
        "import torch\n",
        "import torchvision\n",
        "import torch.nn as nn\n",
        "import torch.optim as optim\n",
        "from torchsummary import summary\n",
        "from torch.utils.data import DataLoader\n",
        "from torchvision.datasets import CIFAR10\n",
        "import torchvision.transforms as transforms\n",
        "from sklearn.metrics import accuracy_score\n",
        "import torchvision.models.quantization as models\n",
        "import matplotlib.pyplot as plt\n",
        "import timeit\n",
        "import time\n",
        "import os"
      ],
      "metadata": {
        "id": "1CqVpRUOn8Nz"
      },
      "id": "1CqVpRUOn8Nz",
      "execution_count": null,
      "outputs": []
    },
    {
      "cell_type": "code",
      "source": [
        "# Define data transformations\n",
        "transform_train = transforms.Compose([\n",
        "    transforms.RandomHorizontalFlip(),\n",
        "    transforms.RandomCrop(32, padding=4),\n",
        "    transforms.ToTensor(),\n",
        "    transforms.Normalize((0.5, 0.5, 0.5), (0.5, 0.5, 0.5)),\n",
        "])\n",
        "\n",
        "transform_test = transforms.Compose([\n",
        "    transforms.ToTensor(),\n",
        "    transforms.Normalize((0.5, 0.5, 0.5), (0.5, 0.5, 0.5)),\n",
        "])"
      ],
      "metadata": {
        "id": "Sg4_s799oFmz"
      },
      "id": "Sg4_s799oFmz",
      "execution_count": null,
      "outputs": []
    },
    {
      "cell_type": "code",
      "source": [
        "# Load CIFAR-10 dataset\n",
        "trainset = torchvision.datasets.CIFAR10(root='./data', train=True, download=True, transform=transform_train)\n",
        "trainloader = DataLoader(trainset, batch_size=64, shuffle=True, num_workers=4)\n",
        "\n",
        "testset = torchvision.datasets.CIFAR10(root='./data', train=False, download=True, transform=transform_test)\n",
        "testloader = DataLoader(testset, batch_size=64, shuffle=False, num_workers=4)"
      ],
      "metadata": {
        "colab": {
          "base_uri": "https://localhost:8080/"
        },
        "id": "DpS8CMq4oI1J",
        "outputId": "d2dc85c1-62f1-4f9a-e487-76e435e259c0"
      },
      "id": "DpS8CMq4oI1J",
      "execution_count": null,
      "outputs": [
        {
          "output_type": "stream",
          "name": "stdout",
          "text": [
            "Downloading https://www.cs.toronto.edu/~kriz/cifar-10-python.tar.gz to ./data/cifar-10-python.tar.gz\n"
          ]
        },
        {
          "output_type": "stream",
          "name": "stderr",
          "text": [
            "100%|██████████| 170498071/170498071 [00:01<00:00, 106899926.45it/s]\n"
          ]
        },
        {
          "output_type": "stream",
          "name": "stdout",
          "text": [
            "Extracting ./data/cifar-10-python.tar.gz to ./data\n"
          ]
        },
        {
          "output_type": "stream",
          "name": "stderr",
          "text": [
            "/usr/local/lib/python3.10/dist-packages/torch/utils/data/dataloader.py:560: UserWarning: This DataLoader will create 4 worker processes in total. Our suggested max number of worker in current system is 2, which is smaller than what this DataLoader is going to create. Please be aware that excessive worker creation might get DataLoader running slow or even freeze, lower the worker number to avoid potential slowness/freeze if necessary.\n",
            "  warnings.warn(_create_warning_msg(\n"
          ]
        },
        {
          "output_type": "stream",
          "name": "stdout",
          "text": [
            "Files already downloaded and verified\n"
          ]
        }
      ]
    },
    {
      "cell_type": "code",
      "source": [
        "class Net(nn.Module):\n",
        "    def __init__(self):\n",
        "        super(Net, self).__init__()\n",
        "        self.conv1 = nn.Conv2d(3, 64, kernel_size=5)\n",
        "        self.pool = nn.MaxPool2d(2, 2)\n",
        "        self.fc1 = nn.Linear(64 * 14 * 14, 256)  # Adjust input size\n",
        "        self.fc2 = nn.Linear(256, 10)\n",
        "\n",
        "    def forward(self, x):\n",
        "        x = self.pool(torch.relu(self.conv1(x)))\n",
        "        x = x.view(-1, 64 * 14 * 14)  # Flattening the tensor\n",
        "        x = torch.relu(self.fc1(x))\n",
        "        x = self.fc2(x)\n",
        "        return x\n",
        "\n",
        "net = Net()\n"
      ],
      "metadata": {
        "id": "3eF6d9NfphLp"
      },
      "id": "3eF6d9NfphLp",
      "execution_count": null,
      "outputs": []
    },
    {
      "cell_type": "code",
      "source": [
        "# Define loss function and optimizer\n",
        "criterion = nn.CrossEntropyLoss()\n",
        "optimizer = optim.SGD(net.parameters(), lr=0.001, momentum=0.9)\n",
        "\n",
        "# Training the model\n",
        "for epoch in range(10):\n",
        "    net.train()\n",
        "    running_loss = 0.0\n",
        "    for i, data in enumerate(trainloader, 0):\n",
        "        inputs, labels = data\n",
        "        optimizer.zero_grad()\n",
        "        outputs = net(inputs)\n",
        "        loss = criterion(outputs, labels)\n",
        "        loss.backward()\n",
        "        optimizer.step()\n",
        "        running_loss += loss.item()\n",
        "\n",
        "    print(f'Epoch {epoch+1}, Loss: {running_loss / len(trainloader)}')"
      ],
      "metadata": {
        "colab": {
          "base_uri": "https://localhost:8080/"
        },
        "id": "wQi5zi0poPrO",
        "outputId": "3166a3b1-3446-4c6e-c05b-c472313983cd"
      },
      "id": "wQi5zi0poPrO",
      "execution_count": null,
      "outputs": [
        {
          "output_type": "stream",
          "name": "stdout",
          "text": [
            "Epoch 1, Loss: 1.9281335873981875\n",
            "Epoch 2, Loss: 1.6347559637120923\n",
            "Epoch 3, Loss: 1.5084779628402436\n",
            "Epoch 4, Loss: 1.4378980212199413\n",
            "Epoch 5, Loss: 1.3770324936913103\n",
            "Epoch 6, Loss: 1.3277861273197262\n",
            "Epoch 7, Loss: 1.282837489148235\n",
            "Epoch 8, Loss: 1.238802227522711\n",
            "Epoch 9, Loss: 1.1945819446192982\n",
            "Epoch 10, Loss: 1.1636524249220748\n"
          ]
        }
      ]
    },
    {
      "cell_type": "code",
      "source": [
        "# Evaluate the model on the test set\n",
        "net.eval()\n",
        "all_predictions = []\n",
        "true_labels = []\n",
        "\n",
        "with torch.no_grad():\n",
        "    for data in testloader:\n",
        "        images, labels = data\n",
        "        outputs = net(images)\n",
        "        _, predicted = torch.max(outputs, 1)\n",
        "        all_predictions.extend(predicted.tolist())\n",
        "        true_labels.extend(labels.tolist())\n",
        "\n",
        "accuracy_pytorch = accuracy_score(true_labels, all_predictions)\n",
        "print(f'Test Accuracy: {accuracy_pytorch * 100:.2f}%')\n"
      ],
      "metadata": {
        "colab": {
          "base_uri": "https://localhost:8080/"
        },
        "id": "X0JknYqAn8QZ",
        "outputId": "f0a2639b-1bd5-46d6-c2bf-28425b3509b7"
      },
      "id": "X0JknYqAn8QZ",
      "execution_count": null,
      "outputs": [
        {
          "output_type": "stream",
          "name": "stderr",
          "text": [
            "/usr/local/lib/python3.10/dist-packages/torch/utils/data/dataloader.py:560: UserWarning: This DataLoader will create 4 worker processes in total. Our suggested max number of worker in current system is 2, which is smaller than what this DataLoader is going to create. Please be aware that excessive worker creation might get DataLoader running slow or even freeze, lower the worker number to avoid potential slowness/freeze if necessary.\n",
            "  warnings.warn(_create_warning_msg(\n"
          ]
        },
        {
          "output_type": "stream",
          "name": "stdout",
          "text": [
            "Test Accuracy: 63.14%\n"
          ]
        }
      ]
    },
    {
      "cell_type": "code",
      "source": [
        "# Save the model to a file named 'original_model.pth'\n",
        "torch.save(net.state_dict(), 'original_model.pth')"
      ],
      "metadata": {
        "id": "DXwSNm8g1ja_"
      },
      "id": "DXwSNm8g1ja_",
      "execution_count": null,
      "outputs": []
    },
    {
      "cell_type": "code",
      "source": [
        "# Save the model as a TorchScript module\n",
        "scripted_model = torch.jit.script(net)\n",
        "scripted_model.save(\"optimized_model.pt\")\n",
        "\n",
        "# Load the saved TorchScript model for inference\n",
        "loaded_model = torch.jit.load(\"optimized_model.pt\")"
      ],
      "metadata": {
        "id": "pUf9wKU5ymmz"
      },
      "id": "pUf9wKU5ymmz",
      "execution_count": null,
      "outputs": []
    },
    {
      "cell_type": "code",
      "source": [
        "# Evaluate the optimized model on the test set\n",
        "loaded_model.eval()\n",
        "all_predictions = []\n",
        "true_labels = []\n",
        "\n",
        "with torch.no_grad():\n",
        "    for data in testloader:\n",
        "        images, labels = data\n",
        "        outputs = loaded_model(images)\n",
        "        _, predicted = torch.max(outputs, 1)\n",
        "        all_predictions.extend(predicted.tolist())\n",
        "        true_labels.extend(labels.tolist())\n",
        "\n",
        "accuracy_torchscript = accuracy_score(true_labels, all_predictions)\n",
        "print(f'Test Accuracy (Optimized Model): {accuracy_torchscript * 100:.2f}%')\n"
      ],
      "metadata": {
        "colab": {
          "base_uri": "https://localhost:8080/"
        },
        "id": "fegaA1goy1ko",
        "outputId": "6a85e6da-4388-4d3a-8ab1-a5da941e6f31"
      },
      "id": "fegaA1goy1ko",
      "execution_count": null,
      "outputs": [
        {
          "output_type": "stream",
          "name": "stderr",
          "text": [
            "/usr/local/lib/python3.10/dist-packages/torch/utils/data/dataloader.py:560: UserWarning: This DataLoader will create 4 worker processes in total. Our suggested max number of worker in current system is 2, which is smaller than what this DataLoader is going to create. Please be aware that excessive worker creation might get DataLoader running slow or even freeze, lower the worker number to avoid potential slowness/freeze if necessary.\n",
            "  warnings.warn(_create_warning_msg(\n"
          ]
        },
        {
          "output_type": "stream",
          "name": "stdout",
          "text": [
            "Test Accuracy (Optimized Model): 63.14%\n"
          ]
        }
      ]
    },
    {
      "cell_type": "code",
      "source": [
        "accuracy_values = [accuracy_pytorch, accuracy_torchscript]\n",
        "labels = ['PyTorch', 'TorchScript']\n",
        "\n",
        "# Create a bar plot\n",
        "plt.bar(labels, accuracy_values, color=['blue', 'green'])\n",
        "\n",
        "# Add a title and labels to the plot\n",
        "plt.title('Accuracy Comparison')\n",
        "plt.xlabel('Models')\n",
        "plt.ylabel('Accuracy')\n",
        "\n",
        "# Show the plot\n",
        "plt.show()\n"
      ],
      "metadata": {
        "colab": {
          "base_uri": "https://localhost:8080/",
          "height": 472
        },
        "id": "V5Ul2Uq7hiLo",
        "outputId": "acd0a715-6c54-4af0-d30e-e7632f3ed3c1"
      },
      "id": "V5Ul2Uq7hiLo",
      "execution_count": null,
      "outputs": [
        {
          "output_type": "display_data",
          "data": {
            "text/plain": [
              "<Figure size 640x480 with 1 Axes>"
            ],
            "image/png": "[encoded data removed]"
          },
          "metadata": {}
        }
      ]
    },
    {
      "cell_type": "markdown",
      "source": [
        "There is no change in the accuracy for PyTorch and TorchScript.\n",
        "So, TorchScript inference does not necessarily improve the accuracy of the model."
      ],
      "metadata": {
        "id": "zUCk7n3PhyU9"
      },
      "id": "zUCk7n3PhyU9"
    },
    {
      "cell_type": "code",
      "source": [
        "# Define the number of inference runs\n",
        "num_runs = 100\n",
        "\n",
        "# Measure inference time for the PyTorch model\n",
        "pytorch_inference_times = []\n",
        "for _ in range(num_runs):\n",
        "    with torch.no_grad():\n",
        "        start_time = time.time()\n",
        "        outputs = net(images)\n",
        "        end_time = time.time()\n",
        "        inference_time = end_time - start_time\n",
        "        pytorch_inference_times.append(inference_time)\n",
        "\n",
        "# Measure inference time for the TorchScript-optimized model\n",
        "torchscript_inference_times = []\n",
        "for _ in range(num_runs):\n",
        "    with torch.no_grad():\n",
        "        start_time = time.time()\n",
        "        outputs = scripted_model(images)\n",
        "        end_time = time.time()\n",
        "        inference_time = end_time - start_time\n",
        "        torchscript_inference_times.append(inference_time)\n",
        "\n",
        "# Calculate and print average inference times\n",
        "avg_pytorch_inference_time = sum(pytorch_inference_times) / num_runs\n",
        "avg_torchscript_inference_time = sum(torchscript_inference_times) / num_runs\n",
        "\n",
        "print(f\"Average PyTorch Inference Time: {avg_pytorch_inference_time:.5f} seconds\")\n",
        "print(f\"Average TorchScript Inference Time: {avg_torchscript_inference_time:.5f} seconds\")\n"
      ],
      "metadata": {
        "colab": {
          "base_uri": "https://localhost:8080/"
        },
        "id": "Fr8pWaChzuQ4",
        "outputId": "c537c97d-ec18-4ca7-d6d4-396d5c1fe9b8"
      },
      "id": "Fr8pWaChzuQ4",
      "execution_count": null,
      "outputs": [
        {
          "output_type": "stream",
          "name": "stdout",
          "text": [
            "Average PyTorch Inference Time: 0.00937 seconds\n",
            "Average TorchScript Inference Time: 0.00891 seconds\n"
          ]
        }
      ]
    },
    {
      "cell_type": "code",
      "source": [
        "time_values = [avg_pytorch_inference_time, avg_torchscript_inference_time]\n",
        "labels = ['PyTorch', 'TorchScript']\n",
        "\n",
        "# Create a bar plot\n",
        "plt.bar(labels, time_values, color=['blue', 'green'])\n",
        "\n",
        "# Add a title and labels to the plot\n",
        "plt.title('Inference Time Comparison')\n",
        "plt.xlabel('Models')\n",
        "plt.ylabel('Inference Time')\n",
        "\n",
        "# Show the plot\n",
        "plt.show()"
      ],
      "metadata": {
        "colab": {
          "base_uri": "https://localhost:8080/",
          "height": 472
        },
        "id": "1LOflxqQiFOY",
        "outputId": "258c728f-6bf2-43b0-d40f-0b5ed1ff9c51"
      },
      "id": "1LOflxqQiFOY",
      "execution_count": null,
      "outputs": [
        {
          "output_type": "display_data",
          "data": {
            "text/plain": [
              "<Figure size 640x480 with 1 Axes>"
            ],
            "image/png": "[encoded data removed]"
          },
          "metadata": {}
        }
      ]
    },
    {
      "cell_type": "markdown",
      "source": [
        "Inference time for TorchScript is slightly less than that of PyTorch."
      ],
      "metadata": {
        "id": "WDy_XETliual"
      },
      "id": "WDy_XETliual"
    },
    {
      "cell_type": "code",
      "source": [
        "# Define data transformations for the CIFAR-10 dataset\n",
        "transform = transforms.Compose([\n",
        "    transforms.ToTensor(),  # Convert the image to a PyTorch tensor\n",
        "    transforms.Normalize((0.5, 0.5, 0.5), (0.5, 0.5, 0.5)),  # Normalize the image\n",
        "])\n",
        "\n",
        "# Load the CIFAR-10 dataset (test set)\n",
        "testset = CIFAR10(root='./data', train=False, download=True, transform=transform)\n",
        "\n",
        "# Choose an index to select an image from the dataset\n",
        "image_index = 0\n",
        "\n",
        "# Get the selected image and its label\n",
        "input_image, label = testset[image_index]\n",
        "\n",
        "# Print the label (class) of the selected image\n",
        "print(f\"Label: {label}\")"
      ],
      "metadata": {
        "colab": {
          "base_uri": "https://localhost:8080/"
        },
        "id": "AoN7-Kl-0rsg",
        "outputId": "04486a49-984a-4216-9f36-9fed0503b419"
      },
      "id": "AoN7-Kl-0rsg",
      "execution_count": null,
      "outputs": [
        {
          "output_type": "stream",
          "name": "stdout",
          "text": [
            "Files already downloaded and verified\n",
            "Label: 3\n"
          ]
        }
      ]
    },
    {
      "cell_type": "code",
      "source": [
        "# Measure latency for the PyTorch model\n",
        "with torch.no_grad():\n",
        "    start_time = time.time()\n",
        "    output = net(input_image)\n",
        "    end_time = time.time()\n",
        "    latency_pytorch = end_time - start_time\n",
        "\n",
        "# Measure latency for the TorchScript-optimized model\n",
        "with torch.no_grad():\n",
        "    start_time = time.time()\n",
        "    output = scripted_model(input_image)\n",
        "    latency_torchscript = end_time - start_time\n",
        "\n",
        "# Compare model file sizes\n",
        "original_model_size = os.path.getsize('original_model.pth')\n",
        "torchscript_model_size = os.path.getsize('optimized_model.pt')\n",
        "\n",
        "print(f\"Latency (PyTorch): {latency_pytorch:.5f} seconds\")\n",
        "print(f\"Latency (TorchScript): {latency_torchscript:.5f} seconds\")\n",
        "print(f\"PyTorch Model Size: {original_model_size / (1024 * 1024):.2f} MB\")\n",
        "print(f\"TorchScript Model Size: {torchscript_model_size / (1024 * 1024):.2f} MB\")"
      ],
      "metadata": {
        "colab": {
          "base_uri": "https://localhost:8080/"
        },
        "id": "A2vzpp9i0AwC",
        "outputId": "f3a7b6e0-0e4e-4eca-effb-3890bcc0cfb2"
      },
      "id": "A2vzpp9i0AwC",
      "execution_count": null,
      "outputs": [
        {
          "output_type": "stream",
          "name": "stdout",
          "text": [
            "Latency (PyTorch): 0.00686 seconds\n",
            "Latency (TorchScript): 0.00210 seconds\n",
            "PyTorch Model Size: 12.28 MB\n",
            "TorchScript Model Size: 12.29 MB\n"
          ]
        }
      ]
    },
    {
      "cell_type": "code",
      "source": [
        "latency_values = [latency_pytorch, latency_torchscript]\n",
        "labels = ['PyTorch', 'TorchScript']\n",
        "\n",
        "# Create a bar plot\n",
        "plt.bar(labels, latency_values, color=['blue', 'green'])\n",
        "\n",
        "# Add a title and labels to the plot\n",
        "plt.title('Latency Comparison')\n",
        "plt.xlabel('Models')\n",
        "plt.ylabel('Latency')\n",
        "\n",
        "# Show the plot\n",
        "plt.show()"
      ],
      "metadata": {
        "colab": {
          "base_uri": "https://localhost:8080/",
          "height": 472
        },
        "id": "j61PCuXhjaxz",
        "outputId": "88636b1e-c8ad-4345-89b8-08438e75418f"
      },
      "id": "j61PCuXhjaxz",
      "execution_count": null,
      "outputs": [
        {
          "output_type": "display_data",
          "data": {
            "text/plain": [
              "<Figure size 640x480 with 1 Axes>"
            ],
            "image/png": "[encoded data removed]"
          },
          "metadata": {}
        }
      ]
    },
    {
      "cell_type": "markdown",
      "source": [
        "Latency in TorchScript is much less compared to the latency in PyTorch."
      ],
      "metadata": {
        "id": "pVOfYVpIj1sX"
      },
      "id": "pVOfYVpIj1sX"
    },
    {
      "cell_type": "code",
      "source": [
        "latency_values = [original_model_size, torchscript_model_size]\n",
        "labels = ['PyTorch', 'TorchScript']\n",
        "\n",
        "# Create a bar plot\n",
        "plt.bar(labels, latency_values, color=['blue', 'green'])\n",
        "\n",
        "# Add a title and labels to the plot\n",
        "plt.title('Model Size Comparison')\n",
        "plt.xlabel('Models')\n",
        "plt.ylabel('Model Size')\n",
        "\n",
        "# Show the plot\n",
        "plt.show()"
      ],
      "metadata": {
        "colab": {
          "base_uri": "https://localhost:8080/",
          "height": 472
        },
        "id": "TLMab5qZjpr_",
        "outputId": "77d22c95-a416-4a5a-bb5b-f3dcbbaf8099"
      },
      "id": "TLMab5qZjpr_",
      "execution_count": null,
      "outputs": [
        {
          "output_type": "display_data",
          "data": {
            "text/plain": [
              "<Figure size 640x480 with 1 Axes>"
            ],
            "image/png": "[encoded data removed]"
          },
          "metadata": {}
        }
      ]
    },
    {
      "cell_type": "markdown",
      "source": [
        "The model size for this particular model is almost equal in PyTorch and TorchScript."
      ],
      "metadata": {
        "id": "38BnXaA-j-8l"
      },
      "id": "38BnXaA-j-8l"
    },
    {
      "cell_type": "markdown",
      "source": [
        "# Aproach 2: Low Resolution Quantization"
      ],
      "metadata": {
        "id": "B2SJ387QLwtD"
      },
      "id": "B2SJ387QLwtD"
    },
    {
      "cell_type": "code",
      "source": [
        "# Quantize the model\n",
        "quantized_net = torch.quantization.quantize_dynamic(net, {nn.Conv2d, nn.Linear}, dtype=torch.qint8)\n",
        "# Set the quantized 'quantized_net' model to evaluation mode\n",
        "quantized_net.eval()"
      ],
      "metadata": {
        "colab": {
          "base_uri": "https://localhost:8080/"
        },
        "id": "sK_nQYv9L7ey",
        "outputId": "65a48ee3-aba9-474a-a081-7d8c6755149f"
      },
      "id": "sK_nQYv9L7ey",
      "execution_count": null,
      "outputs": [
        {
          "output_type": "execute_result",
          "data": {
            "text/plain": [
              "Net(\n",
              "  (conv1): Conv2d(3, 64, kernel_size=(5, 5), stride=(1, 1))\n",
              "  (pool): MaxPool2d(kernel_size=2, stride=2, padding=0, dilation=1, ceil_mode=False)\n",
              "  (fc1): DynamicQuantizedLinear(in_features=12544, out_features=256, dtype=torch.qint8, qscheme=torch.per_tensor_affine)\n",
              "  (fc2): DynamicQuantizedLinear(in_features=256, out_features=10, dtype=torch.qint8, qscheme=torch.per_tensor_affine)\n",
              ")"
            ]
          },
          "metadata": {},
          "execution_count": 56
        }
      ]
    },
    {
      "cell_type": "code",
      "source": [
        "# Prepare model quantization and convert to quantized version\n",
        "quantized_net.qconfig = torch.quantization.get_default_qconfig(\"fbgemm\")\n",
        "torch.backends.quantized.engine = \"fbgemm\"\n",
        "quantized_net = torch.quantization.prepare(quantized_net.cpu(), inplace=False)\n",
        "quantized_net = torch.quantization.convert(quantized_net, inplace=False)"
      ],
      "metadata": {
        "id": "Xpwd9V8pPTNI"
      },
      "id": "Xpwd9V8pPTNI",
      "execution_count": null,
      "outputs": []
    },
    {
      "cell_type": "code",
      "source": [
        "# Check model size\n",
        "def print_model_size(mdl):\n",
        "    torch.save(mdl.state_dict(), \"quant_model.pth\")\n",
        "    size = round(os.path.getsize(\"quant_model.pth\")/1e6)\n",
        "    return size\n",
        "\n",
        "net_size = print_model_size(net)\n",
        "quant_size = print_model_size(quantized_net)\n",
        "\n",
        "print(f'Size without quantization: {net_size} MB.')\n",
        "print(f'Size with quantization: {quant_size} MB.')\n",
        "print(f'Size ratio: {round(net_size/quant_size, 2)}')"
      ],
      "metadata": {
        "colab": {
          "base_uri": "https://localhost:8080/"
        },
        "id": "M8V_gcIhP_Gz",
        "outputId": "1c5865eb-ec5a-414e-eb18-75c6d9b41612"
      },
      "id": "M8V_gcIhP_Gz",
      "execution_count": null,
      "outputs": [
        {
          "output_type": "stream",
          "name": "stdout",
          "text": [
            "Size without quantization: 13 MB.\n",
            "Size with quantization: 3 MB.\n",
            "Size ratio: 4.33\n"
          ]
        }
      ]
    },
    {
      "cell_type": "code",
      "source": [
        "size_values = [net_size, quant_size]\n",
        "labels = ['Without Quantization', 'With Quantization']\n",
        "\n",
        "# Create a bar plot\n",
        "plt.bar(labels, size_values, color=['blue', 'green'])\n",
        "\n",
        "# Add a title and labels to the plot\n",
        "plt.title('Model Size Comparison')\n",
        "plt.xlabel('Models')\n",
        "plt.ylabel('Model Size')\n",
        "\n",
        "# Show the plot\n",
        "plt.show()"
      ],
      "metadata": {
        "colab": {
          "base_uri": "https://localhost:8080/",
          "height": 472
        },
        "id": "zyvrNVFgkkVQ",
        "outputId": "95da0ca5-4e18-4713-b05e-a27d38d068e0"
      },
      "id": "zyvrNVFgkkVQ",
      "execution_count": null,
      "outputs": [
        {
          "output_type": "display_data",
          "data": {
            "text/plain": [
              "<Figure size 640x480 with 1 Axes>"
            ],
            "image/png": "[encoded data removed]"
          },
          "metadata": {}
        }
      ]
    },
    {
      "cell_type": "markdown",
      "source": [
        "Model size is almost 1/4th when quantized."
      ],
      "metadata": {
        "id": "TjXnrUDUkzbm"
      },
      "id": "TjXnrUDUkzbm"
    },
    {
      "cell_type": "code",
      "source": [
        "# Measure the time taken for inference with the original model\n",
        "print(\"Floating point FP32\")\n",
        "fp32_time = timeit.timeit(lambda: net(input_image), number=10)\n",
        "print(f\"Average time per inference (FP32): {fp32_time / 10:.6f} seconds\")\n",
        "\n",
        "# Measure the time taken for inference with the quantized model\n",
        "print(\"Quantized INT8\")\n",
        "quantized_time = timeit.timeit(lambda: quantized_net(input_image), number=10)\n",
        "print(f\"Average time per inference (INT8): {quantized_time / 10:.6f} seconds\")\n",
        "\n",
        "# Compare the latency between the original model and the quantized model\n",
        "if fp32_time < quantized_time:\n",
        "    print(\"Original model is faster.\")\n",
        "else:\n",
        "    print(\"Quantized model is faster.\")"
      ],
      "metadata": {
        "colab": {
          "base_uri": "https://localhost:8080/"
        },
        "id": "kwg1mpUdUSYF",
        "outputId": "f8bd96d2-de2e-4a23-9bdc-adb66f6a75bd"
      },
      "id": "kwg1mpUdUSYF",
      "execution_count": null,
      "outputs": [
        {
          "output_type": "stream",
          "name": "stdout",
          "text": [
            "Floating point FP32\n",
            "Average time per inference (FP32): 0.002512 seconds\n",
            "Quantized INT8\n",
            "Average time per inference (INT8): 0.000844 seconds\n",
            "Quantized model is faster.\n"
          ]
        }
      ]
    },
    {
      "cell_type": "code",
      "source": [
        "time_values = [fp32_time, quantized_time]\n",
        "labels = ['Without Quantization', 'With Quantization']\n",
        "\n",
        "# Create a bar plot\n",
        "plt.bar(labels, time_values, color=['blue', 'green'])\n",
        "\n",
        "# Add a title and labels to the plot\n",
        "plt.title('Inference Time Comparison')\n",
        "plt.xlabel('Models')\n",
        "plt.ylabel('Inference Time')\n",
        "\n",
        "# Show the plot\n",
        "plt.show()"
      ],
      "metadata": {
        "colab": {
          "base_uri": "https://localhost:8080/",
          "height": 472
        },
        "id": "EXfXrejrk_i_",
        "outputId": "70ed8cc5-7a1b-47f6-b471-57f8273c0ade"
      },
      "id": "EXfXrejrk_i_",
      "execution_count": null,
      "outputs": [
        {
          "output_type": "display_data",
          "data": {
            "text/plain": [
              "<Figure size 640x480 with 1 Axes>"
            ],
            "image/png": "[encoded data removed]"
          },
          "metadata": {}
        }
      ]
    },
    {
      "cell_type": "markdown",
      "source": [
        "Inference time with quantization is significantly less than that of without quantization."
      ],
      "metadata": {
        "id": "IVWUQwxRlkSM"
      },
      "id": "IVWUQwxRlkSM"
    }
  ],
  "metadata": {
    "kernelspec": {
      "display_name": "Python 3 (ipykernel)",
      "language": "python",
      "name": "python3"
    },
    "language_info": {
      "codemirror_mode": {
        "name": "ipython",
        "version": 3
      },
      "file_extension": ".py",
      "mimetype": "text/x-python",
      "name": "python",
      "nbconvert_exporter": "python",
      "pygments_lexer": "ipython3",
      "version": "3.10.0"
    },
    "colab": {
      "provenance": []
    }
  },
  "nbformat": 4,
  "nbformat_minor": 5
}